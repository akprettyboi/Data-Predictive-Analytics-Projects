{
 "cells": [
  {
   "cell_type": "code",
   "execution_count": 1,
   "id": "f14348d7",
   "metadata": {},
   "outputs": [
    {
     "data": {
      "text/plain": [
       "'df1[\\'NOTA\\'] = df1[\\'TOTAL VOTES\\']-df1[\\'LDF\\']-df1[\\'UDF\\']-df1[\\'NDA\\']-df1[\\'OTHERS\\']\\n\\ndf1[\\'%LDF\\'] = df1[\\'LDF\\']/df1[\\'TOTAL VOTES\\']*100\\ndf1[\\'%UDF\\'] = df1[\\'UDF\\']/df1[\\'TOTAL VOTES\\']*100\\ndf1[\\'%NDA\\'] = df1[\\'NDA\\']/df1[\\'TOTAL VOTES\\']*100\\ndf1[\\'%NOTA\\'] = df1[\\'NOTA\\']/df1[\\'TOTAL VOTES\\']*100\\ndf1[\\'%OTHERS\\'] = df1[\\'OTHERS\\']/df1[\\'TOTAL VOTES\\']*100\\ndf1[\\'%POSTAL\\'] = df1[\\'POSTAL VOTES\\']/df1[\\'TOTAL VOTES\\']*100\\ndf1[\\'%LEAD\\'] = df1[\\'LEAD\\']/df1[\\'TOTAL VOTES\\']*100\\n\\ndf1[\\'WINNER\\'] = np.where(df1[\\'LDF\\'] > df1[\\'UDF\\'], \"LDF\", \"UDF\")\\n\\ndf1.to_csv(\\'b2_votes.csv\\',\\xa0index=False)'"
      ]
     },
     "execution_count": 1,
     "metadata": {},
     "output_type": "execute_result"
    }
   ],
   "source": [
    "#CLEANING OF DATA SET\n",
    "\n",
    "import pandas as pd\n",
    "import numpy as np\n",
    "\n",
    "df = pd.read_csv('murder.csv')\n",
    "\n",
    "df[\"Victim_Gender\"] = df[\"Victim_Gender\"].str.replace('Murder', \"\")\n",
    "df[\"Victim_Gender\"] = df[\"Victim_Gender\"].str.replace('-', \"\")\n",
    "\n",
    "df[\"Victims_Upto_10_Yrs\"] = df[\"Victims_Upto_10_Yrs\"].replace(np.nan, value=0)\n",
    "df[\"Victims_Upto_10_15_Yrs\"] = df[\"Victims_Upto_10_15_Yrs\"].replace(np.nan, value=0)\n",
    "df[\"Victims_Upto_15_18_Yrs\"] = df[\"Victims_Upto_15_18_Yrs\"].replace(np.nan,value=0)\n",
    "df[\"Victims_Upto_18_30_Yrs\"] = df[\"Victims_Upto_18_30_Yrs\"].replace(np.nan, value=0)\n",
    "df[\"Victims_Upto_30_50_Yrs\"] = df[\"Victims_Upto_30_50_Yrs\"].replace(np.nan,value=0)\n",
    "df[\"Victims_Above_50_Yrs\"] = df[\"Victims_Above_50_Yrs\"].replace(np.nan, value=0)\n",
    "\n",
    "df.drop('Sub_Group_Name', inplace=True, axis=1)\n",
    "\n",
    "df.to_csv('murder_new.csv', index=False)\n",
    "#df1=pd.read_csv('murder_new.csv') \n",
    "\n",
    "df1=df.reindex(columns= ['STATE', 'Year', 'Victim_Gender','Victims_Upto_10_Yrs','Victims_Upto_10_15_Yrs','Victims_Upto_15_18_Yrs','Victims_Upto_18_30_Yrs','Victims_Upto_30_50_Yrs','Victims_Above_50_Yrs','Victims_Total'])\n",
    "df1.to_csv('murder_new.csv', index=False)\n",
    "\n",
    "'''df1['NOTA'] = df1['TOTAL VOTES']-df1['LDF']-df1['UDF']-df1['NDA']-df1['OTHERS']\n",
    "\n",
    "df1['%LDF'] = df1['LDF']/df1['TOTAL VOTES']*100\n",
    "df1['%UDF'] = df1['UDF']/df1['TOTAL VOTES']*100\n",
    "df1['%NDA'] = df1['NDA']/df1['TOTAL VOTES']*100\n",
    "df1['%NOTA'] = df1['NOTA']/df1['TOTAL VOTES']*100\n",
    "df1['%OTHERS'] = df1['OTHERS']/df1['TOTAL VOTES']*100\n",
    "df1['%POSTAL'] = df1['POSTAL VOTES']/df1['TOTAL VOTES']*100\n",
    "df1['%LEAD'] = df1['LEAD']/df1['TOTAL VOTES']*100\n",
    "\n",
    "df1['WINNER'] = np.where(df1['LDF'] > df1['UDF'], \"LDF\", \"UDF\")\n",
    "\n",
    "df1.to_csv('b2_votes.csv', index=False)'''"
   ]
  },
  {
   "cell_type": "code",
   "execution_count": null,
   "id": "69b69936",
   "metadata": {},
   "outputs": [],
   "source": []
  }
 ],
 "metadata": {
  "kernelspec": {
   "display_name": "Python 3 (ipykernel)",
   "language": "python",
   "name": "python3"
  },
  "language_info": {
   "codemirror_mode": {
    "name": "ipython",
    "version": 3
   },
   "file_extension": ".py",
   "mimetype": "text/x-python",
   "name": "python",
   "nbconvert_exporter": "python",
   "pygments_lexer": "ipython3",
   "version": "3.9.12"
  }
 },
 "nbformat": 4,
 "nbformat_minor": 5
}
